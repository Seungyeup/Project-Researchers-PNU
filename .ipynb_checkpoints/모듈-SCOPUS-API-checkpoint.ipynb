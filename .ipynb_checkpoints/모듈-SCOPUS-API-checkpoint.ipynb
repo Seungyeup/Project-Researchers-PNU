{
 "cells": [
  {
   "cell_type": "code",
   "execution_count": 1,
   "metadata": {},
   "outputs": [
    {
     "name": "stdout",
     "output_type": "stream",
     "text": [
      "Requirement already satisfied: elsapy in c:\\users\\user\\anaconda3\\lib\\site-packages (0.5.0)\n",
      "Requirement already satisfied: requests in c:\\users\\user\\anaconda3\\lib\\site-packages (from elsapy) (2.22.0)\n",
      "Requirement already satisfied: idna<2.9,>=2.5 in c:\\users\\user\\anaconda3\\lib\\site-packages (from requests->elsapy) (2.8)\n",
      "Requirement already satisfied: chardet<3.1.0,>=3.0.2 in c:\\users\\user\\anaconda3\\lib\\site-packages (from requests->elsapy) (3.0.4)\n",
      "Requirement already satisfied: urllib3!=1.25.0,!=1.25.1,<1.26,>=1.21.1 in c:\\users\\user\\anaconda3\\lib\\site-packages (from requests->elsapy) (1.25.8)\n",
      "Requirement already satisfied: certifi>=2017.4.17 in c:\\users\\user\\anaconda3\\lib\\site-packages (from requests->elsapy) (2019.11.28)\n"
     ]
    }
   ],
   "source": [
    "!pip install elsapy"
   ]
  },
  {
   "cell_type": "code",
   "execution_count": 2,
   "metadata": {},
   "outputs": [],
   "source": [
    "from elsapy.elsclient import ElsClient\n",
    "from elsapy.elsprofile import ElsAuthor, ElsAffil\n",
    "from elsapy.elsdoc import FullDoc, AbsDoc\n",
    "from elsapy.elssearch import ElsSearch\n",
    "import json\n",
    "\n",
    "# api-key\n",
    "# institue-key miss\n",
    "\n",
    "con_file = open(\"config.json\")\n",
    "config = json.load(con_file)\n",
    "con_file.close()\n",
    "\n",
    "# key-client\n",
    "client = ElsClient(config['apikey'])"
   ]
  },
  {
   "cell_type": "code",
   "execution_count": 4,
   "metadata": {},
   "outputs": [
    {
     "name": "stdout",
     "output_type": "stream",
     "text": [
      "my_auth.full_name:  Kwangseuk Kyhm\n"
     ]
    }
   ],
   "source": [
    "my_auth = ElsAuthor(\n",
    "        uri = 'https://api.elsevier.com/content/author/author_id/6601972916')\n",
    "# Read author data, then write to disk\n",
    "if my_auth.read(client):\n",
    "    print (\"my_auth.full_name: \", my_auth.full_name)\n",
    "    my_auth.write()\n",
    "else:\n",
    "    print (\"Read author failed.\")"
   ]
  },
  {
   "cell_type": "code",
   "execution_count": 5,
   "metadata": {},
   "outputs": [],
   "source": [
    "search =  ElsSearch(\"au-id(6601972916)\",'scopus')\n",
    "search.execute(client)"
   ]
  },
  {
   "cell_type": "code",
   "execution_count": 6,
   "metadata": {},
   "outputs": [],
   "source": [
    "result = search.results_df"
   ]
  },
  {
   "cell_type": "code",
   "execution_count": 7,
   "metadata": {},
   "outputs": [
    {
     "data": {
      "text/plain": [
       "Index(['@_fa', 'link', 'prism:url', 'dc:identifier', 'eid', 'dc:title',\n",
       "       'dc:creator', 'prism:publicationName', 'prism:eIssn', 'prism:volume',\n",
       "       'prism:issueIdentifier', 'prism:pageRange', 'prism:coverDate',\n",
       "       'prism:coverDisplayDate', 'prism:doi', 'citedby-count', 'affiliation',\n",
       "       'pubmed-id', 'prism:aggregationType', 'subtype', 'subtypeDescription',\n",
       "       'article-number', 'source-id', 'openaccess', 'openaccessFlag',\n",
       "       'prism:issn', 'pii', 'prism:isbn'],\n",
       "      dtype='object')"
      ]
     },
     "execution_count": 7,
     "metadata": {},
     "output_type": "execute_result"
    }
   ],
   "source": [
    "result.columns"
   ]
  },
  {
   "cell_type": "code",
   "execution_count": 9,
   "metadata": {},
   "outputs": [
    {
     "data": {
      "text/plain": [
       "0     Intermolecular distance measurement with TNT s...\n",
       "1           Stimulation emission depleted photoacoustic\n",
       "2     Two-step energy transfer dynamics in conjugate...\n",
       "3     Optical gain of inelastic exciton-exciton scat...\n",
       "4     Shape ellipticity dependence of exciton fine l...\n",
       "5     Modeling Quantum Beats by Degenerate Four-Wave...\n",
       "6     Light Controlled Optical Aharonov-Bohm Oscilla...\n",
       "7     Decoherence Dynamics of Localized States in a ...\n",
       "8     Carrier Relaxation Dynamics Between Localized ...\n",
       "9     Magnetic field insensitive photoluminescence d...\n",
       "10    Two-dimensional nature of center-of-mass excit...\n",
       "11    Optical Aharonov-Bohm Oscillations with Disord...\n",
       "12    Excitation polarization dependence of optical ...\n",
       "13    Surface plasmon-assisted photoluminescence enh...\n",
       "14    Optical sectioning in optical resolution photo...\n",
       "15    Inhibitor effects on molecular beacon-based me...\n",
       "16    All-optical polarization phase modulation in c...\n",
       "17    Quasi-one-dimensional density of states in a s...\n",
       "18    Exciton Dipole-Dipole Interaction in a Single ...\n",
       "19    Enhancement of the photoluminescence propertie...\n",
       "20    Observation of a Biexciton Wigner Molecule by ...\n",
       "21    Polarization dependence and optical Aharonov-B...\n",
       "22    Photosensitization of novel ruthenium-function...\n",
       "23    Solvent-modified ultrafast decay dynamics in c...\n",
       "24    Polarization anisotropy of exciton in self-ass...\n",
       "Name: dc:title, dtype: object"
      ]
     },
     "execution_count": 9,
     "metadata": {},
     "output_type": "execute_result"
    }
   ],
   "source": [
    "result['dc:title']"
   ]
  },
  {
   "cell_type": "code",
   "execution_count": 12,
   "metadata": {},
   "outputs": [
    {
     "name": "stdout",
     "output_type": "stream",
     "text": [
      "my_auth.full_name:  Kwangseuk Kyhm\n"
     ]
    }
   ],
   "source": [
    "my_auth = ElsAuthor(\n",
    "        uri = 'https://api.elsevier.com/content/author/author_id/6601972916')\n",
    "# Read author data, then write to disk\n",
    "if my_auth.read(client):\n",
    "    print (\"my_auth.full_name: \", my_auth.full_name)\n",
    "    my_auth.write()\n",
    "else:\n",
    "    print (\"Read author failed.\")"
   ]
  },
  {
   "cell_type": "code",
   "execution_count": null,
   "metadata": {},
   "outputs": [],
   "source": []
  }
 ],
 "metadata": {
  "kernelspec": {
   "display_name": "Python 3",
   "language": "python",
   "name": "python3"
  },
  "language_info": {
   "codemirror_mode": {
    "name": "ipython",
    "version": 3
   },
   "file_extension": ".py",
   "mimetype": "text/x-python",
   "name": "python",
   "nbconvert_exporter": "python",
   "pygments_lexer": "ipython3",
   "version": "3.7.6"
  }
 },
 "nbformat": 4,
 "nbformat_minor": 4
}
