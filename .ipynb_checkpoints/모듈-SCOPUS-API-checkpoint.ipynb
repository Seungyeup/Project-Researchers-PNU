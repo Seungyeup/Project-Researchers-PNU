{
 "cells": [
  {
   "cell_type": "code",
   "execution_count": 1,
   "metadata": {},
   "outputs": [],
   "source": [
    "from elsapy.elsclient import ElsClient\n",
    "from elsapy.elsprofile import ElsAuthor, ElsAffil\n",
    "from elsapy.elsdoc import FullDoc, AbsDoc\n",
    "from elsapy.elssearch import ElsSearch\n",
    "import json\n",
    "\n",
    "# api-key\n",
    "# institue-key miss\n",
    "\n",
    "con_file = open(\"config.json\")\n",
    "config = json.load(con_file)\n",
    "con_file.close()\n",
    "\n",
    "# key-client\n",
    "client = ElsClient(config['apikey'])"
   ]
  },
  {
   "cell_type": "code",
   "execution_count": 2,
   "metadata": {},
   "outputs": [
    {
     "name": "stdout",
     "output_type": "stream",
     "text": [
      "my_auth.full_name:  Suntae Kim\n"
     ]
    }
   ],
   "source": [
    "my_auth = ElsAuthor(\n",
    "        uri = 'https://api.elsevier.com/content/author/author_id/35484493400')\n",
    "# Read author data, then write to disk\n",
    "if my_auth.read(client):\n",
    "    print (\"my_auth.full_name: \", my_auth.full_name)\n",
    "    my_auth.write()\n",
    "else:\n",
    "    print (\"Read author failed.\")"
   ]
  },
  {
   "cell_type": "code",
   "execution_count": 3,
   "metadata": {},
   "outputs": [],
   "source": [
    "search =  ElsSearch(\"au-id(35484493400)\",'scopus')\n",
    "search.execute(client)"
   ]
  },
  {
   "cell_type": "code",
   "execution_count": 4,
   "metadata": {},
   "outputs": [],
   "source": [
    "result = search.results_df\n",
    "result.to_excel(\"a.xlsx\")"
   ]
  },
  {
   "cell_type": "code",
   "execution_count": 5,
   "metadata": {},
   "outputs": [
    {
     "data": {
      "text/plain": [
       "Index(['@_fa', 'link', 'prism:url', 'dc:identifier', 'eid', 'dc:title',\n",
       "       'dc:creator', 'prism:publicationName', 'prism:issn', 'prism:eIssn',\n",
       "       'prism:volume', 'prism:issueIdentifier', 'prism:pageRange',\n",
       "       'prism:coverDate', 'prism:coverDisplayDate', 'prism:doi',\n",
       "       'citedby-count', 'affiliation', 'prism:aggregationType', 'subtype',\n",
       "       'subtypeDescription', 'source-id', 'openaccess', 'openaccessFlag',\n",
       "       'article-number', 'pubmed-id', 'pii', 'prism:isbn'],\n",
       "      dtype='object')"
      ]
     },
     "execution_count": 5,
     "metadata": {},
     "output_type": "execute_result"
    }
   ],
   "source": [
    "result.columns"
   ]
  },
  {
   "cell_type": "code",
   "execution_count": 6,
   "metadata": {},
   "outputs": [
    {
     "data": {
      "text/plain": [
       "106"
      ]
     },
     "execution_count": 6,
     "metadata": {},
     "output_type": "execute_result"
    }
   ],
   "source": []
  },
  {
   "cell_type": "code",
   "execution_count": 12,
   "metadata": {},
   "outputs": [
    {
     "name": "stdout",
     "output_type": "stream",
     "text": [
      "my_auth.full_name:  Kwangseuk Kyhm\n"
     ]
    }
   ],
   "source": [
    "my_auth = ElsAuthor(\n",
    "        uri = 'https://api.elsevier.com/content/author/author_id/6601972916')\n",
    "# Read author data, then write to disk\n",
    "if my_auth.read(client):\n",
    "    print (\"my_auth.full_name: \", my_auth.full_name)\n",
    "    my_auth.write()\n",
    "else:\n",
    "    print (\"Read author failed.\")"
   ]
  },
  {
   "cell_type": "code",
   "execution_count": null,
   "metadata": {},
   "outputs": [],
   "source": []
  }
 ],
 "metadata": {
  "kernelspec": {
   "display_name": "Python 3",
   "language": "python",
   "name": "python3"
  },
  "language_info": {
   "codemirror_mode": {
    "name": "ipython",
    "version": 3
   },
   "file_extension": ".py",
   "mimetype": "text/x-python",
   "name": "python",
   "nbconvert_exporter": "python",
   "pygments_lexer": "ipython3",
   "version": "3.7.6"
  }
 },
 "nbformat": 4,
 "nbformat_minor": 4
}
