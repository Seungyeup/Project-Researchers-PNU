{
 "cells": [
  {
   "cell_type": "markdown",
   "metadata": {},
   "source": [
    "논문번호 | 대학 | 학과 | 전공 | 재직여부 | 성명 | 교번 | 풀네임 | Year | Title |Source | Status | DB"
   ]
  },
  {
   "cell_type": "code",
   "execution_count": null,
   "metadata": {},
   "outputs": [],
   "source": [
    "import pandas as pd\n",
    "import numpy as np\n",
    "from pandas import DataFrame as df\n",
    "from openpyxl import load_workbook\n",
    "import math\n",
    "\n",
    "pd.options.display.float_format = '{:.0f}'.format\n",
    "pd.options.display.max_columns = None\n",
    "\n",
    "pip_list = pd.read_excel(\"DB/PIP/PIP_2014_2020.xlsx\")\n",
    "scopus_list = pd.read_excel(\"DB/SCOPUS/PI\")\n",
    "authors = pd.read_excel()"
   ]
  }
 ],
 "metadata": {
  "kernelspec": {
   "display_name": "Python 3",
   "language": "python",
   "name": "python3"
  },
  "language_info": {
   "codemirror_mode": {
    "name": "ipython",
    "version": 3
   },
   "file_extension": ".py",
   "mimetype": "text/x-python",
   "name": "python",
   "nbconvert_exporter": "python",
   "pygments_lexer": "ipython3",
   "version": "3.7.4"
  }
 },
 "nbformat": 4,
 "nbformat_minor": 2
}
