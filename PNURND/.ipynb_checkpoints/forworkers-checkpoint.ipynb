{
 "cells": [
  {
   "cell_type": "markdown",
   "metadata": {},
   "source": [
    "논문번호 | 대학 | 학과 | 전공 | 재직여부 | 성명 | 교번 | 풀네임 | Year | Title |Source | Status | DB"
   ]
  },
  {
   "cell_type": "code",
   "execution_count": 1,
   "metadata": {},
   "outputs": [],
   "source": [
    "import pandas as pd\n",
    "import numpy as np\n",
    "from pandas import DataFrame as df\n",
    "from openpyxl import load_workbook\n",
    "import math\n",
    "\n",
    "pd.options.display.float_format = '{:.0f}'.format\n",
    "pd.options.display.max_columns = None\n",
    "\n",
    "pip_list = pd.read_excel(\"DB/PIP/PIP_2014_2020.xlsx\")\n",
    "scopus_list = pd.read_excel(\"DB/SCOPUS/scopus_all.xlsx\")\n",
    "authors = pd.read_excel(\"저자리스트.xlsx\")"
   ]
  },
  {
   "cell_type": "code",
   "execution_count": 2,
   "metadata": {},
   "outputs": [],
   "source": [
    "research_list = df(columns=['논문번호','대학','학과','전공','재직여부','성명','교번','풀네임','Year','Title','Source','Status','DB'])"
   ]
  },
  {
   "cell_type": "code",
   "execution_count": null,
   "metadata": {},
   "outputs": [],
   "source": [
    "res_num=0\n",
    "for pro in range(0,len(authors)):\n",
    "    if authors['교직원번호'].loc[pro] in pip_list['교직원번호']: # 만약 저자의 교직원번호가 pip에 있다면\n",
    "        row_num = \n",
    "        "
   ]
  }
 ],
 "metadata": {
  "kernelspec": {
   "display_name": "Python 3",
   "language": "python",
   "name": "python3"
  },
  "language_info": {
   "codemirror_mode": {
    "name": "ipython",
    "version": 3
   },
   "file_extension": ".py",
   "mimetype": "text/x-python",
   "name": "python",
   "nbconvert_exporter": "python",
   "pygments_lexer": "ipython3",
   "version": "3.7.6"
  }
 },
 "nbformat": 4,
 "nbformat_minor": 2
}
