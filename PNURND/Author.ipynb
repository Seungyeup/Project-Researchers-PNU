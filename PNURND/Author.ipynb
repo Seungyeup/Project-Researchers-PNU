{
 "cells": [
  {
   "cell_type": "markdown",
   "metadata": {},
   "source": [
    "(일련번호) | 대학 | 학과 | 전공 | 재직여부 | 성명 | 교번 | 풀네임 | 약어 | AU_ID | PNU_ID | KRI | 직급 | 이메일 | 임용일자 | 퇴직일자"
   ]
  },
  {
   "cell_type": "code",
   "execution_count": 39,
   "metadata": {},
   "outputs": [],
   "source": [
    "import pandas as pd\n",
    "import numpy as np\n",
    "from pandas import DataFrame as df\n",
    "from openpyxl import load_workbook\n",
    "import math\n",
    "\n",
    "pd.options.display.float_format = '{:.0f}'.format\n",
    "pd.options.display.max_columns = None\n",
    "\n",
    "pip_list = pd.read_excel(\"DB/AUTHOR/PIP_2014_2020.xlsx\")\n",
    "giegum = pd.read_excel(\"DB/AUTHOR/교무과제공_기금교수 명단_임용일자추가(2020.4.20.현재기준).xlsx\")\n",
    "jeunyim = pd.read_excel(\"DB/AUTHOR/교무과제공_전임교원 명단_임용일자추가(2020.4.27.기준).xlsx\")\n",
    "library = pd.read_excel(\"DB/AUTHOR/도서관제공_교수급 연구자명단(원본).xlsx\")"
   ]
  },
  {
   "cell_type": "code",
   "execution_count": 40,
   "metadata": {},
   "outputs": [],
   "source": [
    "authors = df(columns=[\"대학\",\n",
    "                      \"학과\",\n",
    "                      \"전공\",\n",
    "                      \"재직여부\",\n",
    "                      \"성명\",\n",
    "                      \"교직원번호\",\n",
    "                      \"풀네임\",\n",
    "                      \"약어\",\n",
    "                      \"AU-ID\",\n",
    "                      \"PNU_ID\",\n",
    "                      \"연구자번호\",\n",
    "                      \"직급\",\n",
    "                      \"이메일\",\n",
    "                      \"임용일자\",\n",
    "                      \"퇴직일자\"])"
   ]
  },
  {
   "cell_type": "code",
   "execution_count": 41,
   "metadata": {},
   "outputs": [],
   "source": [
    "# 조건\n",
    "level = ['교수','부교수','조교수',\n",
    "         '총장',\n",
    "         '기금교수(교수대우)','기금교수(조교수대우)','기금교수(부교수대우)']"
   ]
  },
  {
   "cell_type": "code",
   "execution_count": 42,
   "metadata": {},
   "outputs": [],
   "source": [
    "# PIP   |대학|학과|전공|재직여부(X)|성명|교직원번호|풀네임(X)|약어(X)|AU_ID(X)|PNU(X)|연구자번호|직급|이메일|임용일자|퇴직일자\n",
    "\n",
    "def add_authors_pip(prof_num,row):\n",
    "    authors.loc[prof_num] = [ # AUTHORS에 추가\n",
    "            pip_list['대학'].loc[row], # 대학\n",
    "            pip_list['학과'].loc[row], # 학과\n",
    "            pip_list['전공'].loc[row], # 전공\n",
    "            None,                     # 재직여부\n",
    "            pip_list['성명'].loc[row], # 성명\n",
    "            pip_list['교직원번호'].loc[row],  # 교직원번호\n",
    "            None,                     # 풀네임\n",
    "            None, # 약어\n",
    "            None, # au_id\n",
    "            None, # pnu_id\n",
    "            pip_list['연구자번호'].loc[row], # 연구자번호\n",
    "            pip_list['직급'].loc[row], # 직급\n",
    "            None, # 이메일\n",
    "            pip_list['임용일자'].loc[row], # 임용일자\n",
    "            pip_list['퇴직일자'].loc[row] # 퇴직일자\n",
    "        ]"
   ]
  },
  {
   "cell_type": "code",
   "execution_count": 43,
   "metadata": {},
   "outputs": [],
   "source": [
    "# PIP   |대학|학과|전공|재직여부(X)|성명|교직원번호|풀네임(X)|약어(X)|AU_ID(X)|PNU(X)|연구자번호|직급|이메일|임용일자|퇴직일자\n",
    "\n",
    "prof_num = 0  # 교수님 수 \n",
    "for row in range(0,len(pip_list)):\n",
    "    if not pip_list['교직원번호'].loc[row] in authors['교직원번호'].tolist(): #교직원 번호가 처음보는 번호면\n",
    "        if pip_list['직급'].loc[row] in level: # 분석하고자 하는 직급의 사람들만\n",
    "            add_authors_pip(prof_num,row)\n",
    "            prof_num += 1"
   ]
  },
  {
   "cell_type": "code",
   "execution_count": 44,
   "metadata": {},
   "outputs": [
    {
     "name": "stdout",
     "output_type": "stream",
     "text": [
      "1569\n"
     ]
    }
   ],
   "source": [
    "print(prof_num)"
   ]
  },
  {
   "cell_type": "code",
   "execution_count": 45,
   "metadata": {},
   "outputs": [],
   "source": [
    "# 기금  |대학|학과|전공(X)|재직여부(X)|성명|교직원번호|풀네임(X)|약어(X)|AU_ID(X)|PNU(X)|연구자번(X)호|직급|이메일|임용일자(X)|퇴직일자(X)\n",
    "def add_authors_giegum(prof_num,row2):\n",
    "    authors.loc[prof_num] = [ # AUTHORS에 추가\n",
    "            giegum['상위부서'].loc[row2], # 대학\n",
    "            giegum['소속'].loc[row2], # 학과\n",
    "            None, # 전공\n",
    "            None,                     # 재직여부\n",
    "            giegum['한글성명'].loc[row2], # 성명\n",
    "            giegum['교직원번호'].loc[row2],  # 교직원번호\n",
    "            None,                     # 풀네임\n",
    "            None, # 약어\n",
    "            None, # au_id\n",
    "            None, # pnu_id\n",
    "            None, # 연구자번호\n",
    "            giegum['직급'].loc[row2], # 직급\n",
    "            giegum['이메일'].loc[row2], # 이메일\n",
    "            None, # 임용일자\n",
    "            None # 퇴직일자\n",
    "        ]"
   ]
  },
  {
   "cell_type": "code",
   "execution_count": 46,
   "metadata": {},
   "outputs": [],
   "source": [
    "# 기금\n",
    "for row2 in range(0,len(giegum)):\n",
    "    if not giegum['교직원번호'].loc[row2] in authors['교직원번호'].tolist(): #교직원 번호가 없다면\n",
    "        if giegum['직급'].loc[row2] in level: # 분석하고자 하는 직급의 사람들만\n",
    "            add_authors_giegum(prof_num,row2)\n",
    "            prof_num += 1\n",
    "            "
   ]
  },
  {
   "cell_type": "code",
   "execution_count": 47,
   "metadata": {},
   "outputs": [
    {
     "name": "stdout",
     "output_type": "stream",
     "text": [
      "1584\n"
     ]
    }
   ],
   "source": [
    "print(prof_num)"
   ]
  },
  {
   "cell_type": "code",
   "execution_count": 58,
   "metadata": {},
   "outputs": [],
   "source": [
    "# 전임 |대학|학과|전공(X)|재직여부(X)|성명|교직원번호|풀네임(X)|약어(X)|AU_ID(X)|PNU(X)|연구자번(X)호|직급|이메일|임용일자(X)|퇴직일자(X)\n",
    "def add_authors_jeunyim(prof_num,row3):\n",
    "    authors.loc[prof_num] = [ # AUTHORS에 추가\n",
    "            jeunyim['대학'].loc[row3], # 대학\n",
    "            jeunyim['학과'].loc[row3], # 학과\n",
    "            None, # 전공\n",
    "            None,                     # 재직여부\n",
    "            jeunyim['한글성명'].loc[row3], # 성명\n",
    "            jeunyim['교직원번호'].loc[row3],  # 교직원번호\n",
    "            None,                     # 풀네임\n",
    "            None, # 약어\n",
    "            None, # au_id\n",
    "            None, # pnu_id\n",
    "            None, # 연구자번호\n",
    "            jeunyim['직급'].loc[row3], # 직급\n",
    "            jeunyim['이메일'].loc[row3], # 이메일\n",
    "            None, # 임용일자\n",
    "            None # 퇴직일자\n",
    "        ]"
   ]
  },
  {
   "cell_type": "code",
   "execution_count": 59,
   "metadata": {},
   "outputs": [],
   "source": [
    "# 전임\n",
    "for row3 in range(0,len(jeunyim)):\n",
    "    if not jeunyim['교직원번호'].loc[row3] in authors['교직원번호'].tolist(): #교직원 번호가 없다면\n",
    "        if jeunyim['직급'].loc[row3] in level: # 분석하고자 하는 직급의 사람들만\n",
    "            add_authors_jeunyim(prof_num,row3)\n",
    "            prof_num += 1"
   ]
  },
  {
   "cell_type": "code",
   "execution_count": 60,
   "metadata": {},
   "outputs": [
    {
     "name": "stdout",
     "output_type": "stream",
     "text": [
      "1651\n"
     ]
    }
   ],
   "source": [
    "print(prof_num)"
   ]
  },
  {
   "cell_type": "code",
   "execution_count": 76,
   "metadata": {},
   "outputs": [],
   "source": [
    "# 도서관 |대학|학과|전공(X)|재직여부(X)|성명|교직원번호|풀네임|약어|AU_ID(X)|PNU|연구자번호(X)|직급|이메일|임용일자(X)|퇴직일자(X)\n",
    "def add_authors_library(prof_num,row4):\n",
    "    authors.loc[prof_num] = [ # AUTHORS에 추가\n",
    "            library['단대'].loc[row4], # 대학\n",
    "            library['학과'].loc[row4], # 학과\n",
    "            None, # 전공\n",
    "            None,                     # 재직여부\n",
    "            library['연구자명'].loc[row4], # 성명\n",
    "            library['교번'].loc[row4],  # 교직원번호\n",
    "            library['영문풀네임1'].loc[row4],                     # 풀네임\n",
    "            library['영문약어1'].loc[row4], # 약어\n",
    "            None, # au_id\n",
    "            library['ID'].loc[row4], # pnu_id\n",
    "            authors['연구자번호'].loc[prof_num], # 연구자번호\n",
    "            library['신분'].loc[row4], # 직급\n",
    "            library['email'].loc[row4], # 이메일\n",
    "            authors['임용일자'].loc[prof_num], # 임용일자\n",
    "            authors['퇴직일자'].loc[prof_num] # 퇴직일자\n",
    "        ]"
   ]
  },
  {
   "cell_type": "code",
   "execution_count": 77,
   "metadata": {},
   "outputs": [],
   "source": [
    "# 도서관\n",
    "for row4 in range(0,len(library)):\n",
    "    if not library['교번'].loc[row4] in authors['교직원번호'].tolist(): #교직원 번호가 없다면\n",
    "        if library['신분'].loc[row4] in level: # 분석하고자 하는 직급의 사람들만\n",
    "            add_authors_library(prof_num,row4)\n",
    "            prof_num += 1\n",
    "    else: # 이미 있는 교직원번호라면\n",
    "        flag = authors['교직원번호'].tolist().index(library['교번'].loc[row4]) # 해당 교직원 row를 찾아\n",
    "        add_authors_library(flag,row4) # 데이터 추가해서 업데이트\n",
    "        \n"
   ]
  },
  {
   "cell_type": "code",
   "execution_count": 80,
   "metadata": {},
   "outputs": [
    {
     "name": "stdout",
     "output_type": "stream",
     "text": [
      "1779\n"
     ]
    }
   ],
   "source": [
    "print(prof_num)"
   ]
  },
  {
   "cell_type": "code",
   "execution_count": null,
   "metadata": {},
   "outputs": [],
   "source": []
  }
 ],
 "metadata": {
  "kernelspec": {
   "display_name": "Python 3",
   "language": "python",
   "name": "python3"
  },
  "language_info": {
   "codemirror_mode": {
    "name": "ipython",
    "version": 3
   },
   "file_extension": ".py",
   "mimetype": "text/x-python",
   "name": "python",
   "nbconvert_exporter": "python",
   "pygments_lexer": "ipython3",
   "version": "3.7.6"
  }
 },
 "nbformat": 4,
 "nbformat_minor": 4
}
