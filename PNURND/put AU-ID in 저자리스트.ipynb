{
 "cells": [
  {
   "cell_type": "code",
   "execution_count": 5,
   "metadata": {},
   "outputs": [],
   "source": [
    "import pandas as pd\n",
    "import numpy as np\n",
    "from pandas import DataFrame as df\n",
    "from openpyxl import load_workbook\n",
    "import math\n",
    "\n",
    "pd.options.display.float_format = '{:.0f}'.format\n",
    "pd.options.display.max_columns = None\n",
    "\n",
    "researchers = pd.read_excel(\"저자리스트.xlsx\")\n",
    "target_list = pd.read_excel(\"DB/AU-ID/AUID_생명자원과학대학(75명).xlsx\")"
   ]
  },
  {
   "cell_type": "code",
   "execution_count": 9,
   "metadata": {},
   "outputs": [],
   "source": [
    "for pro in range(0,len(researchers)):\n",
    "    if researchers['교직원번호'].loc[pro] in target_list['교번'].tolist():\n",
    "        location = target_list['교번'].tolist().index(researchers['교직원번호'].loc[pro])\n",
    "        researchers['AU-ID'].loc[pro] = target_list['ScopusID 1'].loc[location]\n",
    "    "
   ]
  },
  {
   "cell_type": "code",
   "execution_count": 10,
   "metadata": {},
   "outputs": [],
   "source": [
    "researchers.to_excel(\"저자리스트생자대포함.xlsx\")"
   ]
  },
  {
   "cell_type": "code",
   "execution_count": null,
   "metadata": {},
   "outputs": [],
   "source": []
  }
 ],
 "metadata": {
  "kernelspec": {
   "display_name": "Python 3",
   "language": "python",
   "name": "python3"
  },
  "language_info": {
   "codemirror_mode": {
    "name": "ipython",
    "version": 3
   },
   "file_extension": ".py",
   "mimetype": "text/x-python",
   "name": "python",
   "nbconvert_exporter": "python",
   "pygments_lexer": "ipython3",
   "version": "3.7.6"
  }
 },
 "nbformat": 4,
 "nbformat_minor": 2
}
