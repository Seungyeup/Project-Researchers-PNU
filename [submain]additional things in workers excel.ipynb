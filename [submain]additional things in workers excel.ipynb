{
 "cells": [
  {
   "cell_type": "code",
   "execution_count": 1,
   "metadata": {},
   "outputs": [],
   "source": [
    "import pandas as pd\n",
    "import numpy as np\n",
    "from pandas import DataFrame as df\n",
    "from openpyxl import load_workbook\n",
    "import math\n",
    "from tqdm import tqdm,trange\n",
    "\n",
    "pd.options.display.float_format = '{:.0f}'.format\n",
    "pd.options.display.max_columns = None\n",
    "\n",
    "workers_list = pd.read_excel(\"작업용엑셀(2020.07.04).xlsx\")\n",
    "authors = pd.read_excel(\"저자리스트(AUID 2020.7월 3일(최신)).xlsx\")"
   ]
  },
  {
   "cell_type": "code",
   "execution_count": 2,
   "metadata": {},
   "outputs": [
    {
     "name": "stdout",
     "output_type": "stream",
     "text": [
      "<class 'pandas.core.frame.DataFrame'>\n",
      "RangeIndex: 43502 entries, 0 to 43501\n",
      "Data columns (total 40 columns):\n",
      " #   Column      Non-Null Count  Dtype  \n",
      "---  ------      --------------  -----  \n",
      " 0   Unnamed: 0  43502 non-null  int64  \n",
      " 1   대학          43502 non-null  object \n",
      " 2   학과          43502 non-null  object \n",
      " 3   전공          17793 non-null  object \n",
      " 4   재직여부        43502 non-null  object \n",
      " 5   성명          43502 non-null  object \n",
      " 6   교번          43502 non-null  int64  \n",
      " 7   풀네임         36519 non-null  object \n",
      " 8   Year        43502 non-null  int64  \n",
      " 9   Title       43502 non-null  object \n",
      " 10  Source      43502 non-null  object \n",
      " 11  Status      43502 non-null  object \n",
      " 12  DB          22321 non-null  object \n",
      " 13  논문구분        37723 non-null  object \n",
      " 14  학술지색인       22321 non-null  object \n",
      " 15  학진등재여부      17133 non-null  object \n",
      " 16  학진등재후보      1277 non-null   object \n",
      " 17  PNU-ID      40185 non-null  object \n",
      " 18  DT(P)       37723 non-null  object \n",
      " 19  DT(S)       14580 non-null  object \n",
      " 20  DOI         14062 non-null  object \n",
      " 21  EID         14580 non-null  object \n",
      " 22  임용일자        43502 non-null  object \n",
      " 23  퇴직일자        5334 non-null   float64\n",
      " 24  공동연구자수      37723 non-null  float64\n",
      " 25  권           36644 non-null  object \n",
      " 26  호           31818 non-null  object \n",
      " 27  페이지         37715 non-null  object \n",
      " 28  ISSN        37233 non-null  object \n",
      " 29  학술단체명       37723 non-null  object \n",
      " 30  국내외구분       37723 non-null  object \n",
      " 31  학문분야        37686 non-null  object \n",
      " 32  연구원구분       37722 non-null  object \n",
      " 33  책임구분        37723 non-null  object \n",
      " 34  과제번호(차수)    17822 non-null  object \n",
      " 35  과제번호        17818 non-null  object \n",
      " 36  연구과제명       17818 non-null  object \n",
      " 37  수행기관        15148 non-null  object \n",
      " 38  지원기관        19938 non-null  object \n",
      " 39  지원금액        3908 non-null   float64\n",
      "dtypes: float64(3), int64(3), object(34)\n",
      "memory usage: 13.3+ MB\n"
     ]
    }
   ],
   "source": [
    "workers_list.info()"
   ]
  },
  {
   "cell_type": "code",
   "execution_count": 3,
   "metadata": {},
   "outputs": [],
   "source": [
    "research_list_0610 = df(columns=['대학','학과','전공','재직여부','성명','교번','풀네임',\n",
    "                            # au-id추가\n",
    "                            'AU-ID'\n",
    "                            ,'Year','Title','Source','Status','DB',\n",
    "                            #추가요청\n",
    "                            \"논문구분\",\n",
    "                            \"학술지색인\",\n",
    "                            \"학진등재여부\",\n",
    "                            \"학진등재후보\",\n",
    "                            #추가 필드\n",
    "                           'PNU-ID',\n",
    "                           'DT(P)',\n",
    "                           'DT(S)',\n",
    "                           'DOI',\n",
    "                           'EID',\n",
    "                           '임용일자',\n",
    "                           '퇴직일자',\n",
    "                            #추가요청2\n",
    "                            '공동연구자수',\n",
    "                            '권',\n",
    "                            '호',\n",
    "                            '페이지',\n",
    "                            'ISSN',\n",
    "                            '학술단체명',\n",
    "                            '국내외구분',\n",
    "                            '학문분야',\n",
    "                            '연구원구분',\n",
    "                            '책임구분',\n",
    "                            '과제번호(차수)',\n",
    "                            '과제번호',\n",
    "                            '연구과제명',\n",
    "                            '수행기관',\n",
    "                            '지원기관',\n",
    "                            '지원금액'\n",
    "                           ])"
   ]
  },
  {
   "cell_type": "code",
   "execution_count": 4,
   "metadata": {},
   "outputs": [
    {
     "name": "stderr",
     "output_type": "stream",
     "text": [
      "100%|██████████████████████████████████████████████████████████████████████████| 43502/43502 [1:02:59<00:00, 11.51it/s]\n"
     ]
    }
   ],
   "source": [
    "\n",
    "for wo_list in trange(0,len(workers_list)):\n",
    "    index = authors['교직원번호'].tolist().index(workers_list['교번'].loc[wo_list])\n",
    "    research_list_0610.loc[wo_list] = [\n",
    "                    workers_list['대학'].loc[wo_list], # 대학\n",
    "                    workers_list['학과'].loc[wo_list], # 학과\n",
    "                    workers_list['전공'].loc[wo_list], # 전공\n",
    "                    workers_list['재직여부'].loc[wo_list], # 재직여부\n",
    "                    workers_list['성명'].loc[wo_list], # 성명\n",
    "                    workers_list['교번'].loc[wo_list], # 성명\n",
    "                    workers_list['풀네임'].loc[wo_list], # 성명\n",
    "        authors['AU-ID'].loc[index],\n",
    "        workers_list['Year'].loc[wo_list], # 성명\n",
    "        workers_list['Title'].loc[wo_list], # 성명\n",
    "        workers_list['Source'].loc[wo_list], # 성명\n",
    "        workers_list['Status'].loc[wo_list], # 성명\n",
    "        workers_list['DB'].loc[wo_list], # 성명\n",
    "        \n",
    "        workers_list['논문구분'].loc[wo_list], # 성명\n",
    "        workers_list['학술지색인'].loc[wo_list], # 성명\n",
    "        workers_list['학진등재여부'].loc[wo_list], # 성명\n",
    "        workers_list['학진등재후보'].loc[wo_list], # 성명\n",
    "        \n",
    "        workers_list['PNU-ID'].loc[wo_list], # 성명\n",
    "        workers_list['DT(P)'].loc[wo_list], # 성명\n",
    "        workers_list['DT(S)'].loc[wo_list], # 성명\n",
    "        workers_list['DOI'].loc[wo_list], # 성명\n",
    "        workers_list['EID'].loc[wo_list], # 성명\n",
    "        workers_list['임용일자'].loc[wo_list], # 성명\n",
    "        workers_list['퇴직일자'].loc[wo_list], # 성명\n",
    "        \n",
    "        workers_list['공동연구자수'].loc[wo_list], # 성명\n",
    "        workers_list['권'].loc[wo_list], # 성명\n",
    "        workers_list['호'].loc[wo_list], # 성명\n",
    "        workers_list['페이지'].loc[wo_list], # 성명\n",
    "        workers_list['ISSN'].loc[wo_list], # 성명\n",
    "        workers_list['학술단체명'].loc[wo_list], # 성명\n",
    "        workers_list['국내외구분'].loc[wo_list], # 성명\n",
    "        workers_list['학문분야'].loc[wo_list], # 성명\n",
    "        workers_list['연구원구분'].loc[wo_list], # 성명\n",
    "        workers_list['책임구분'].loc[wo_list], # 성명\n",
    "        workers_list['과제번호(차수)'].loc[wo_list], # 성명\n",
    "        workers_list['과제번호'].loc[wo_list], # 성명\n",
    "        workers_list['연구과제명'].loc[wo_list], # 성명\n",
    "        workers_list['수행기관'].loc[wo_list], # 성명\n",
    "        workers_list['지원기관'].loc[wo_list], # 성명\n",
    "        workers_list['지원금액'].loc[wo_list], # 성명\n",
    "        \n",
    "        ]"
   ]
  },
  {
   "cell_type": "code",
   "execution_count": 5,
   "metadata": {},
   "outputs": [],
   "source": [
    "research_list_0610.to_excel(\"작업자용파일(2020_07_04).xlsx\")"
   ]
  },
  {
   "cell_type": "code",
   "execution_count": null,
   "metadata": {},
   "outputs": [],
   "source": []
  }
 ],
 "metadata": {
  "kernelspec": {
   "display_name": "Python 3",
   "language": "python",
   "name": "python3"
  },
  "language_info": {
   "codemirror_mode": {
    "name": "ipython",
    "version": 3
   },
   "file_extension": ".py",
   "mimetype": "text/x-python",
   "name": "python",
   "nbconvert_exporter": "python",
   "pygments_lexer": "ipython3",
   "version": "3.7.6"
  }
 },
 "nbformat": 4,
 "nbformat_minor": 4
}
