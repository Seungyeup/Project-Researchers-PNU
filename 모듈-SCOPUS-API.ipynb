{
 "cells": [
  {
   "cell_type": "code",
   "execution_count": 1,
   "metadata": {},
   "outputs": [],
   "source": [
    "from elsapy.elsclient import ElsClient\n",
    "from elsapy.elsprofile import ElsAuthor, ElsAffil\n",
    "from elsapy.elsdoc import FullDoc, AbsDoc\n",
    "from elsapy.elssearch import ElsSearch\n",
    "import json\n",
    "import pandas as pd\n",
    "\n",
    "# api-key\n",
    "# institue-key miss\n",
    "\n",
    "con_file = open(\"config.json\")\n",
    "config = json.load(con_file)\n",
    "con_file.close()\n",
    "\n",
    "# key-client\n",
    "client = ElsClient(config['apikey'])"
   ]
  },
  {
   "cell_type": "code",
   "execution_count": 2,
   "metadata": {},
   "outputs": [
    {
     "name": "stdout",
     "output_type": "stream",
     "text": [
      "my_auth.full_name:  Kwangseuk Kyhm\n"
     ]
    }
   ],
   "source": [
    "my_auth = ElsAuthor(\n",
    "        uri = 'https://api.elsevier.com/content/author/author_id/6601972916')\n",
    "# Read author data, then write to disk\n",
    "if my_auth.read(client):\n",
    "    print (\"my_auth.full_name: \", my_auth.full_name)\n",
    "    my_auth.write()\n",
    "else:\n",
    "    print (\"Read author failed.\")"
   ]
  },
  {
   "cell_type": "code",
   "execution_count": 3,
   "metadata": {},
   "outputs": [],
   "source": [
    "search =  ElsSearch(\"au-id(6601972916)\",'scopus')\n",
    "search.execute(client)"
   ]
  },
  {
   "cell_type": "code",
   "execution_count": 4,
   "metadata": {},
   "outputs": [],
   "source": [
    "result = search.results_df\n",
    "result.to_excel(\"a.xlsx\")"
   ]
  },
  {
   "cell_type": "code",
   "execution_count": 5,
   "metadata": {},
   "outputs": [
    {
     "data": {
      "text/plain": [
       "Index(['@_fa', 'link', 'prism:url', 'dc:identifier', 'eid', 'dc:title',\n",
       "       'dc:creator', 'prism:publicationName', 'prism:issn', 'prism:eIssn',\n",
       "       'prism:volume', 'prism:issueIdentifier', 'prism:pageRange',\n",
       "       'prism:coverDate', 'prism:coverDisplayDate', 'prism:doi',\n",
       "       'citedby-count', 'affiliation', 'prism:aggregationType', 'subtype',\n",
       "       'subtypeDescription', 'article-number', 'source-id', 'openaccess',\n",
       "       'openaccessFlag', 'pubmed-id', 'pii', 'prism:isbn'],\n",
       "      dtype='object')"
      ]
     },
     "execution_count": 5,
     "metadata": {},
     "output_type": "execute_result"
    }
   ],
   "source": [
    "result.columns"
   ]
  },
  {
   "cell_type": "code",
   "execution_count": 7,
   "metadata": {},
   "outputs": [],
   "source": [
    "time_stp = result['prism:coverDate'].loc[0]"
   ]
  },
  {
   "cell_type": "code",
   "execution_count": 8,
   "metadata": {},
   "outputs": [
    {
     "data": {
      "text/plain": [
       "pandas._libs.tslibs.timestamps.Timestamp"
      ]
     },
     "execution_count": 8,
     "metadata": {},
     "output_type": "execute_result"
    }
   ],
   "source": [
    "type(result['prism:coverDate'].loc[0])"
   ]
  },
  {
   "cell_type": "code",
   "execution_count": 9,
   "metadata": {},
   "outputs": [
    {
     "data": {
      "text/plain": [
       "2019"
      ]
     },
     "execution_count": 9,
     "metadata": {},
     "output_type": "execute_result"
    }
   ],
   "source": [
    "time_stp.year"
   ]
  },
  {
   "cell_type": "code",
   "execution_count": 10,
   "metadata": {},
   "outputs": [
    {
     "name": "stdout",
     "output_type": "stream",
     "text": [
      "my_auth.full_name:  Kwangseuk Kyhm\n"
     ]
    }
   ],
   "source": [
    "my_auth = ElsAuthor(\n",
    "        uri = 'https://api.elsevier.com/content/author/author_id/6601972916')\n",
    "# Read author data, then write to disk\n",
    "if my_auth.read(client):\n",
    "    print (\"my_auth.full_name: \", my_auth.full_name)\n",
    "    my_auth.write()\n",
    "else:\n",
    "    print (\"Read author failed.\")"
   ]
  },
  {
   "cell_type": "code",
   "execution_count": 35,
   "metadata": {},
   "outputs": [
    {
     "name": "stdout",
     "output_type": "stream",
     "text": [
      "scoupus에 존재\n"
     ]
    }
   ],
   "source": [
    "title = \"title(\"+\"Correlates of health-related quality of life in patients with myocardial infarction: A literature review\"+\")\"\n",
    "tmp_search = ElsSearch(title,\"scopus\")\n",
    "tmp_search.execute(client)\n",
    "tmp_result = tmp_search.results_df\n",
    "if 'error' not in tmp_result.columns.tolist():\n",
    "    print(\"scoupus에 존재\")\n",
    "else:\n",
    "    print(\"scopus에 없음\")"
   ]
  },
  {
   "cell_type": "code",
   "execution_count": 36,
   "metadata": {},
   "outputs": [
    {
     "name": "stdout",
     "output_type": "stream",
     "text": [
      "scopus에 없음\n"
     ]
    }
   ],
   "source": [
    "title = \"title(\"+\"여성노인을 위한 강점중심 탄력성 증진 프로그램 효과\"+\")\"\n",
    "tmp_search = ElsSearch(title,\"scopus\")\n",
    "tmp_search.execute(client)\n",
    "tmp_result = tmp_search.results_df\n",
    "if 'error' not in tmp_result.columns.tolist():\n",
    "    print(\"scoupus에 존재\")\n",
    "else:\n",
    "    print(\"scopus에 없음\")"
   ]
  },
  {
   "cell_type": "code",
   "execution_count": 22,
   "metadata": {},
   "outputs": [
    {
     "data": {
      "text/html": [
       "<div>\n",
       "<style scoped>\n",
       "    .dataframe tbody tr th:only-of-type {\n",
       "        vertical-align: middle;\n",
       "    }\n",
       "\n",
       "    .dataframe tbody tr th {\n",
       "        vertical-align: top;\n",
       "    }\n",
       "\n",
       "    .dataframe thead th {\n",
       "        text-align: right;\n",
       "    }\n",
       "</style>\n",
       "<table border=\"1\" class=\"dataframe\">\n",
       "  <thead>\n",
       "    <tr style=\"text-align: right;\">\n",
       "      <th></th>\n",
       "      <th>@_fa</th>\n",
       "      <th>error</th>\n",
       "    </tr>\n",
       "  </thead>\n",
       "  <tbody>\n",
       "    <tr>\n",
       "      <th>0</th>\n",
       "      <td>true</td>\n",
       "      <td>Result set was empty</td>\n",
       "    </tr>\n",
       "  </tbody>\n",
       "</table>\n",
       "</div>"
      ],
      "text/plain": [
       "   @_fa                 error\n",
       "0  true  Result set was empty"
      ]
     },
     "execution_count": 22,
     "metadata": {},
     "output_type": "execute_result"
    }
   ],
   "source": []
  },
  {
   "cell_type": "code",
   "execution_count": null,
   "metadata": {},
   "outputs": [],
   "source": []
  }
 ],
 "metadata": {
  "kernelspec": {
   "display_name": "Python 3",
   "language": "python",
   "name": "python3"
  },
  "language_info": {
   "codemirror_mode": {
    "name": "ipython",
    "version": 3
   },
   "file_extension": ".py",
   "mimetype": "text/x-python",
   "name": "python",
   "nbconvert_exporter": "python",
   "pygments_lexer": "ipython3",
   "version": "3.7.6"
  }
 },
 "nbformat": 4,
 "nbformat_minor": 4
}
