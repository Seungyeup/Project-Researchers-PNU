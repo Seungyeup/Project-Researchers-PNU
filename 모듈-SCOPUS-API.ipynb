{
 "cells": [
  {
   "cell_type": "code",
   "execution_count": 1,
   "metadata": {},
   "outputs": [
    {
     "name": "stdout",
     "output_type": "stream",
     "text": [
      "Requirement already satisfied: elsapy in c:\\users\\user\\anaconda3\\lib\\site-packages (0.5.0)\n",
      "Requirement already satisfied: requests in c:\\users\\user\\anaconda3\\lib\\site-packages (from elsapy) (2.22.0)\n",
      "Requirement already satisfied: idna<2.9,>=2.5 in c:\\users\\user\\anaconda3\\lib\\site-packages (from requests->elsapy) (2.8)\n",
      "Requirement already satisfied: chardet<3.1.0,>=3.0.2 in c:\\users\\user\\anaconda3\\lib\\site-packages (from requests->elsapy) (3.0.4)\n",
      "Requirement already satisfied: urllib3!=1.25.0,!=1.25.1,<1.26,>=1.21.1 in c:\\users\\user\\anaconda3\\lib\\site-packages (from requests->elsapy) (1.25.8)\n",
      "Requirement already satisfied: certifi>=2017.4.17 in c:\\users\\user\\anaconda3\\lib\\site-packages (from requests->elsapy) (2019.11.28)\n"
     ]
    }
   ],
   "source": [
    "!pip install elsapy"
   ]
  },
  {
   "cell_type": "code",
   "execution_count": 1,
   "metadata": {},
   "outputs": [],
   "source": [
    "from elsapy.elsclient import ElsClient\n",
    "from elsapy.elsprofile import ElsAuthor, ElsAffil\n",
    "from elsapy.elsdoc import FullDoc, AbsDoc\n",
    "from elsapy.elssearch import ElsSearch\n",
    "import json\n",
    "\n",
    "# api-key\n",
    "# institue-key miss\n",
    "\n",
    "con_file = open(\"config.json\")\n",
    "config = json.load(con_file)\n",
    "con_file.close()\n",
    "\n",
    "# key-client\n",
    "client = ElsClient(config['apikey'])"
   ]
  },
  {
   "cell_type": "code",
   "execution_count": 2,
   "metadata": {},
   "outputs": [
    {
     "name": "stdout",
     "output_type": "stream",
     "text": [
      "my_auth.full_name:  Jumsoon Kang\n"
     ]
    }
   ],
   "source": [
    "my_auth = ElsAuthor(\n",
    "        uri = 'https://api.elsevier.com/content/author/author_id/26024769800')\n",
    "# Read author data, then write to disk\n",
    "if my_auth.read(client):\n",
    "    print (\"my_auth.full_name: \", my_auth.full_name)\n",
    "    my_auth.write()\n",
    "else:\n",
    "    print (\"Read author failed.\")"
   ]
  },
  {
   "cell_type": "code",
   "execution_count": 3,
   "metadata": {},
   "outputs": [],
   "source": [
    "search =  ElsSearch(\"au-id(26024769800)\",'scopus')\n",
    "search.execute(client)"
   ]
  },
  {
   "cell_type": "code",
   "execution_count": 4,
   "metadata": {},
   "outputs": [],
   "source": [
    "result = search.results_df\n",
    "result.to_excel(\"a.xlsx\")"
   ]
  },
  {
   "cell_type": "code",
   "execution_count": 5,
   "metadata": {},
   "outputs": [
    {
     "data": {
      "text/plain": [
       "Index(['@_fa', 'link', 'prism:url', 'dc:identifier', 'eid', 'dc:title',\n",
       "       'dc:creator', 'prism:publicationName', 'prism:issn', 'prism:eIssn',\n",
       "       'prism:volume', 'prism:issueIdentifier', 'prism:pageRange',\n",
       "       'prism:coverDate', 'prism:coverDisplayDate', 'prism:doi',\n",
       "       'citedby-count', 'affiliation', 'prism:aggregationType', 'subtype',\n",
       "       'subtypeDescription', 'source-id', 'openaccess', 'openaccessFlag',\n",
       "       'pubmed-id', 'pii'],\n",
       "      dtype='object')"
      ]
     },
     "execution_count": 5,
     "metadata": {},
     "output_type": "execute_result"
    }
   ],
   "source": [
    "result.columns"
   ]
  },
  {
   "cell_type": "code",
   "execution_count": 6,
   "metadata": {},
   "outputs": [
    {
     "data": {
      "text/plain": [
       "0     Phytohormone profiles of ‘Seolhyang’ and ‘Maeh...\n",
       "1     Development of an SNP set for marker-assisted ...\n",
       "2     Non-destructive evaluation of bacteria-infecte...\n",
       "3     Characterization of the Lsi1 homologs in Cucur...\n",
       "4     Regional differences in onion bulb quality and...\n",
       "5     Near-infrared hyperspectral imaging system cou...\n",
       "6     Sequence-characterized amplified polymorphism ...\n",
       "7     Viability estimation of pepper seeds using tim...\n",
       "8     Development of the gene-based SCARs for the Ph...\n",
       "9     Single-crystal structure of |Li<inf>50</inf>Na...\n",
       "10    Genetic diversity in watermelon cultivars and ...\n",
       "11    Microarray analysis of the transcriptome for b...\n",
       "12    Functional characterization of watermelon (Cit...\n",
       "13      Antioxidative effects of peanut sprout extracts\n",
       "14    Rose (Rosa hybrida L.) EST-derived microsatell...\n",
       "15    Resveratrol Induces Apoptosis in Primary Human...\n",
       "16    Pinoresinol-4,4′-di-O-β-d-glucoside from Valer...\n",
       "17    Storability improvement of 'Fuyu' persimmon fr...\n",
       "Name: dc:title, dtype: object"
      ]
     },
     "execution_count": 6,
     "metadata": {},
     "output_type": "execute_result"
    }
   ],
   "source": [
    "result['dc:title']"
   ]
  },
  {
   "cell_type": "code",
   "execution_count": 12,
   "metadata": {},
   "outputs": [
    {
     "name": "stdout",
     "output_type": "stream",
     "text": [
      "my_auth.full_name:  Kwangseuk Kyhm\n"
     ]
    }
   ],
   "source": [
    "my_auth = ElsAuthor(\n",
    "        uri = 'https://api.elsevier.com/content/author/author_id/6601972916')\n",
    "# Read author data, then write to disk\n",
    "if my_auth.read(client):\n",
    "    print (\"my_auth.full_name: \", my_auth.full_name)\n",
    "    my_auth.write()\n",
    "else:\n",
    "    print (\"Read author failed.\")"
   ]
  },
  {
   "cell_type": "code",
   "execution_count": null,
   "metadata": {},
   "outputs": [],
   "source": []
  }
 ],
 "metadata": {
  "kernelspec": {
   "display_name": "Python 3",
   "language": "python",
   "name": "python3"
  },
  "language_info": {
   "codemirror_mode": {
    "name": "ipython",
    "version": 3
   },
   "file_extension": ".py",
   "mimetype": "text/x-python",
   "name": "python",
   "nbconvert_exporter": "python",
   "pygments_lexer": "ipython3",
   "version": "3.7.6"
  }
 },
 "nbformat": 4,
 "nbformat_minor": 4
}
