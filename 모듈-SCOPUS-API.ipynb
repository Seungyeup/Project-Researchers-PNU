{
 "cells": [
  {
   "cell_type": "code",
   "execution_count": 1,
   "metadata": {},
   "outputs": [
    {
     "name": "stdout",
     "output_type": "stream",
     "text": [
      "Requirement already satisfied: elsapy in c:\\users\\user\\anaconda3\\lib\\site-packages (0.5.0)\n",
      "Requirement already satisfied: requests in c:\\users\\user\\anaconda3\\lib\\site-packages (from elsapy) (2.22.0)\n",
      "Requirement already satisfied: idna<2.9,>=2.5 in c:\\users\\user\\anaconda3\\lib\\site-packages (from requests->elsapy) (2.8)\n",
      "Requirement already satisfied: chardet<3.1.0,>=3.0.2 in c:\\users\\user\\anaconda3\\lib\\site-packages (from requests->elsapy) (3.0.4)\n",
      "Requirement already satisfied: urllib3!=1.25.0,!=1.25.1,<1.26,>=1.21.1 in c:\\users\\user\\anaconda3\\lib\\site-packages (from requests->elsapy) (1.25.8)\n",
      "Requirement already satisfied: certifi>=2017.4.17 in c:\\users\\user\\anaconda3\\lib\\site-packages (from requests->elsapy) (2019.11.28)\n"
     ]
    }
   ],
   "source": [
    "!pip install elsapy"
   ]
  },
  {
   "cell_type": "code",
   "execution_count": 13,
   "metadata": {},
   "outputs": [],
   "source": [
    "from elsapy.elsclient import ElsClient\n",
    "from elsapy.elsprofile import ElsAuthor, ElsAffil\n",
    "from elsapy.elsdoc import FullDoc, AbsDoc\n",
    "from elsapy.elssearch import ElsSearch\n",
    "import json\n",
    "\n",
    "# api-key\n",
    "# institue-key miss\n",
    "\n",
    "con_file = open(\"config.json\")\n",
    "config = json.load(con_file)\n",
    "con_file.close()\n",
    "\n",
    "# key-client\n",
    "client = ElsClient(config['apikey'])"
   ]
  },
  {
   "cell_type": "code",
   "execution_count": 14,
   "metadata": {},
   "outputs": [
    {
     "name": "stdout",
     "output_type": "stream",
     "text": [
      "my_auth.full_name:  Suntae Kim\n"
     ]
    }
   ],
   "source": [
    "my_auth = ElsAuthor(\n",
    "        uri = 'https://api.elsevier.com/content/author/author_id/35484493400')\n",
    "# Read author data, then write to disk\n",
    "if my_auth.read(client):\n",
    "    print (\"my_auth.full_name: \", my_auth.full_name)\n",
    "    my_auth.write()\n",
    "else:\n",
    "    print (\"Read author failed.\")"
   ]
  },
  {
   "cell_type": "code",
   "execution_count": 15,
   "metadata": {},
   "outputs": [],
   "source": [
    "search =  ElsSearch(\"au-id(35484493400)\",'scopus')\n",
    "search.execute(client)"
   ]
  },
  {
   "cell_type": "code",
   "execution_count": 16,
   "metadata": {},
   "outputs": [],
   "source": [
    "result = search.results_df\n",
    "result.to_excel(\"a.xlsx\")"
   ]
  },
  {
   "cell_type": "code",
   "execution_count": 17,
   "metadata": {},
   "outputs": [
    {
     "data": {
      "text/plain": [
       "Index(['@_fa', 'link', 'prism:url', 'dc:identifier', 'eid', 'dc:title',\n",
       "       'dc:creator', 'prism:publicationName', 'prism:issn', 'prism:eIssn',\n",
       "       'prism:volume', 'prism:issueIdentifier', 'prism:pageRange',\n",
       "       'prism:coverDate', 'prism:coverDisplayDate', 'prism:doi',\n",
       "       'citedby-count', 'affiliation', 'prism:aggregationType', 'subtype',\n",
       "       'subtypeDescription', 'source-id', 'openaccess', 'openaccessFlag',\n",
       "       'article-number', 'pubmed-id', 'pii'],\n",
       "      dtype='object')"
      ]
     },
     "execution_count": 17,
     "metadata": {},
     "output_type": "execute_result"
    }
   ],
   "source": [
    "result.columns"
   ]
  },
  {
   "cell_type": "code",
   "execution_count": 18,
   "metadata": {},
   "outputs": [
    {
     "data": {
      "text/plain": [
       "0     Comparative proteomic analysis of host respons...\n",
       "1     Metabolic profiling-based evaluation of the fe...\n",
       "2     Proteomics of Rice—Magnaporthe oryzae Interact...\n",
       "3     Pi5 and Pii Paired NLRs Are Functionally Excha...\n",
       "4     Identification of Msp1-induced signaling compo...\n",
       "5     Label-free quantitative proteomic analysis det...\n",
       "6     A proteomic insight into the MSP1 and flg22 in...\n",
       "7     Concepts and strategies of soybean seed proteo...\n",
       "8     Label-free quantitative proteomic analysis of ...\n",
       "9     Label-free quantitative proteome data associat...\n",
       "10    Phosphoproteome data from abscisic acid and et...\n",
       "11    Comparative phosphoproteome analysis upon ethy...\n",
       "12    Transcriptomic analysis of Oryza sativa leaves...\n",
       "13    An insight into the tomato spotted wilt virus ...\n",
       "14    Progress toward rice seed OMICS in low-level g...\n",
       "15    Physiological and proteomic analysis of plant ...\n",
       "16    A Multi-Omics Analysis of Glycine max Leaves R...\n",
       "17    Transcriptome analysis of ABA/JA-dual responsi...\n",
       "18    Optimization of in vitro lily culture system w...\n",
       "19    Gel-based and gel-free proteome data associate...\n",
       "20    Evaluation of bioactive compounds in strawberr...\n",
       "21    Proteomics survey of Solanaceae family: Curren...\n",
       "22    In-depth proteomic analysis of Glycine max see...\n",
       "23    Label-free quantitative secretome analysis of ...\n",
       "24    Common bean proteomics: Present status and fut...\n",
       "Name: dc:title, dtype: object"
      ]
     },
     "execution_count": 18,
     "metadata": {},
     "output_type": "execute_result"
    }
   ],
   "source": [
    "result['dc:title']"
   ]
  },
  {
   "cell_type": "code",
   "execution_count": 12,
   "metadata": {},
   "outputs": [
    {
     "name": "stdout",
     "output_type": "stream",
     "text": [
      "my_auth.full_name:  Kwangseuk Kyhm\n"
     ]
    }
   ],
   "source": [
    "my_auth = ElsAuthor(\n",
    "        uri = 'https://api.elsevier.com/content/author/author_id/6601972916')\n",
    "# Read author data, then write to disk\n",
    "if my_auth.read(client):\n",
    "    print (\"my_auth.full_name: \", my_auth.full_name)\n",
    "    my_auth.write()\n",
    "else:\n",
    "    print (\"Read author failed.\")"
   ]
  },
  {
   "cell_type": "code",
   "execution_count": null,
   "metadata": {},
   "outputs": [],
   "source": []
  }
 ],
 "metadata": {
  "kernelspec": {
   "display_name": "Python 3",
   "language": "python",
   "name": "python3"
  },
  "language_info": {
   "codemirror_mode": {
    "name": "ipython",
    "version": 3
   },
   "file_extension": ".py",
   "mimetype": "text/x-python",
   "name": "python",
   "nbconvert_exporter": "python",
   "pygments_lexer": "ipython3",
   "version": "3.7.6"
  }
 },
 "nbformat": 4,
 "nbformat_minor": 4
}
