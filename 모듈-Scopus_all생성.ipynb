{
 "cells": [
  {
   "cell_type": "code",
   "execution_count": 49,
   "metadata": {},
   "outputs": [],
   "source": [
    "import math\n",
    "import pandas as pd\n",
    "from pandas import DataFrame as df\n",
    "from elsapy.elsclient import ElsClient\n",
    "from elsapy.elsprofile import ElsAuthor, ElsAffil\n",
    "from elsapy.elsdoc import FullDoc, AbsDoc\n",
    "from elsapy.elssearch import ElsSearch\n",
    "import json\n",
    "\n",
    "researchers = pd.read_excel(\"저자test1.xlsx\")\n",
    "scopus_all = df(columns=['성명','AU-ID','논문제목'])\n",
    "\n",
    "# api-key\n",
    "# institue-key miss\n",
    "\n",
    "con_file = open(\"config.json\")\n",
    "config = json.load(con_file)\n",
    "con_file.close()\n",
    "\n",
    "# key-client\n",
    "client = ElsClient(config['apikey'])\n"
   ]
  },
  {
   "cell_type": "code",
   "execution_count": 55,
   "metadata": {},
   "outputs": [],
   "source": [
    "prev=0\n",
    "for pro in range(0,len(researchers)):\n",
    "    au_id_num=researchers['S_ID_1'].loc[pro]\n",
    "    if math.isnan(au_id_num):\n",
    "        continue\n",
    "    au_id = \"au-id(\"+str(int(au_id_num))+\")\"\n",
    "    tmp_search = ElsSearch(au_id,\"scopus\")\n",
    "    tmp_search.execute(client)\n",
    "    tmp_result = tmp_search.results_df\n",
    "    result = tmp_result['dc:title']\n",
    "    for doc_num in range(0,len(result)):\n",
    "        scopus_all.loc[prev+doc_num] = [\n",
    "                                      researchers['성명'].loc[pro],\n",
    "                                      researchers['S_ID_1'].loc[pro],\n",
    "                                      result.loc[doc_num]\n",
    "                                  ]\n",
    "        prev += 1  \n",
    "    "
   ]
  },
  {
   "cell_type": "code",
   "execution_count": 59,
   "metadata": {},
   "outputs": [],
   "source": [
    "scopus_all.to_excel(\"temp_scopus_all.xlsx\")"
   ]
  },
  {
   "cell_type": "code",
   "execution_count": null,
   "metadata": {},
   "outputs": [],
   "source": []
  }
 ],
 "metadata": {
  "kernelspec": {
   "display_name": "Python 3",
   "language": "python",
   "name": "python3"
  },
  "language_info": {
   "codemirror_mode": {
    "name": "ipython",
    "version": 3
   },
   "file_extension": ".py",
   "mimetype": "text/x-python",
   "name": "python",
   "nbconvert_exporter": "python",
   "pygments_lexer": "ipython3",
   "version": "3.7.6"
  }
 },
 "nbformat": 4,
 "nbformat_minor": 4
}
